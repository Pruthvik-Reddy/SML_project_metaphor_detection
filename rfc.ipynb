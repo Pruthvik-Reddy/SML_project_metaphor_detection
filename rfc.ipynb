{
  "nbformat": 4,
  "nbformat_minor": 0,
  "metadata": {
    "colab": {
      "provenance": []
    },
    "kernelspec": {
      "name": "python3",
      "display_name": "Python 3"
    },
    "language_info": {
      "name": "python"
    }
  },
  "cells": [
    {
      "cell_type": "code",
      "source": [
        "import pandas as pd\n",
        "from sklearn.feature_extraction.text import TfidfVectorizer\n",
        "from sklearn.ensemble import RandomForestClassifier\n",
        "from sklearn.model_selection import train_test_split\n",
        "from sklearn.metrics import classification_report, accuracy_score\n",
        "\n",
        "metaphor_dict = {\n",
        "    0: 'road',\n",
        "    1: 'candle',\n",
        "    2: 'light',\n",
        "    3: 'spice',\n",
        "    4: 'ride',\n",
        "    5: 'train',\n",
        "    6: 'boat'\n",
        "}\n",
        "\n",
        "df = pd.read_csv('train.csv')\n",
        "\n",
        "df['word'] = df['metaphorID'].map(metaphor_dict)\n",
        "\n",
        "vectorizer = TfidfVectorizer()\n",
        "X = vectorizer.fit_transform(df['text'])\n",
        "y = df['label_boolean']\n",
        "\n",
        "X_train, X_test, y_train, y_test = train_test_split(X, y, test_size=0.2, random_state=42)\n",
        "\n",
        "clf = RandomForestClassifier(n_estimators=100, random_state=42)\n",
        "clf.fit(X_train, y_train)\n",
        "\n",
        "y_pred = clf.predict(X_test)\n",
        "\n",
        "print(\"Accuracy:\", accuracy_score(y_test, y_pred))\n",
        "print(classification_report(y_test, y_pred))\n"
      ],
      "metadata": {
        "colab": {
          "base_uri": "https://localhost:8080/"
        },
        "id": "5t8DbzIqOoHr",
        "outputId": "94c9da26-08c3-4cfe-d711-8a2ed28a7905"
      },
      "execution_count": null,
      "outputs": [
        {
          "output_type": "stream",
          "name": "stdout",
          "text": [
            "Accuracy: 0.7620320855614974\n",
            "              precision    recall  f1-score   support\n",
            "\n",
            "       False       0.81      0.13      0.23        99\n",
            "        True       0.76      0.99      0.86       275\n",
            "\n",
            "    accuracy                           0.76       374\n",
            "   macro avg       0.79      0.56      0.54       374\n",
            "weighted avg       0.77      0.76      0.69       374\n",
            "\n"
          ]
        }
      ]
    },
    {
      "cell_type": "code",
      "source": [
        "overall_precision = report['weighted avg']['precision']\n",
        "overall_recall = report['weighted avg']['recall']\n",
        "overall_f1_score = report['weighted avg']['f1-score']\n",
        "\n",
        "print(\"Overall Precision:\", overall_precision)\n",
        "print(\"Overall Recall:\", overall_recall)\n",
        "print(\"Overall F1-score:\", overall_f1_score)\n"
      ],
      "metadata": {
        "colab": {
          "base_uri": "https://localhost:8080/"
        },
        "id": "YBM6fu8mRSSK",
        "outputId": "23711bb1-7e9b-44d2-fe98-d2891fb6b990"
      },
      "execution_count": null,
      "outputs": [
        {
          "output_type": "stream",
          "name": "stdout",
          "text": [
            "Overall Precision: 0.7737327472888595\n",
            "Overall Recall: 0.7620320855614974\n",
            "Overall F1-score: 0.691758079700044\n"
          ]
        }
      ]
    },
    {
      "cell_type": "code",
      "source": [],
      "metadata": {
        "id": "mWlleRt6RScP"
      },
      "execution_count": null,
      "outputs": []
    }
  ]
}